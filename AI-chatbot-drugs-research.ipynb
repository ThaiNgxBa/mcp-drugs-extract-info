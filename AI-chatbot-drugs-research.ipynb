{
 "cells": [
  {
   "cell_type": "markdown",
   "id": "f43ff8fe",
   "metadata": {},
   "source": [
    "# Import Library"
   ]
  },
  {
   "cell_type": "code",
   "execution_count": 1,
   "id": "1ea6e43a",
   "metadata": {},
   "outputs": [],
   "source": [
    "import requests\n",
    "import json\n",
    "import os\n",
    "from typing import List\n",
    "from dotenv import load_dotenv\n",
    "import anthropic"
   ]
  },
  {
   "cell_type": "markdown",
   "id": "5e069fd3",
   "metadata": {},
   "source": [
    "# Tool Function"
   ]
  },
  {
   "cell_type": "code",
   "execution_count": 2,
   "id": "4d22f9ce",
   "metadata": {},
   "outputs": [],
   "source": [
    "DRUG_DIR = \"drugs\"\n",
    "#Purpose: Defines the directory name where all drug information files will be stored locally."
   ]
  },
  {
   "cell_type": "code",
   "execution_count": 3,
   "id": "d5aad13d",
   "metadata": {},
   "outputs": [],
   "source": [
    "def search_drug_info(drug_name: str, max_results: int = 5) -> List[str]:\n",
    "    \"\"\"\n",
    "    Search for drug information from openFDA by drug name (brand or substance).\n",
    "    \n",
    "    Args:\n",
    "        drug_name (str): The name of the drug to search (e.g. 'ibuprofen')\n",
    "        max_results (int): Number of results to fetch (default: 5)\n",
    "\n",
    "    Returns:\n",
    "        List[str]: A list of drug brand names found\n",
    "    \"\"\"\n",
    "\n",
    "    # Prepare search query (brand_name OR substance_name)\n",
    "    url = f\"https://api.fda.gov/drug/label.json?search=openfda.brand_name:{drug_name}+openfda.substance_name:{drug_name}&limit={max_results}\"\n",
    "\n",
    "    # Send request\n",
    "    response = requests.get(url)\n",
    "    if response.status_code != 200:\n",
    "        print(f\"Error: {response.status_code}\")\n",
    "        return []\n",
    "\n",
    "    data = response.json()\n",
    "    results = data.get(\"results\", [])\n",
    "\n",
    "    # Create directory to store results\n",
    "    path = os.path.join(DRUG_DIR, drug_name.lower().replace(\" \", \"_\"))\n",
    "    os.makedirs(path, exist_ok=True)\n",
    "    file_path = os.path.join(path, \"drug_info.json\")\n",
    "\n",
    "    # Collect drug information\n",
    "    drug_info = {}\n",
    "    brand_names = []\n",
    "\n",
    "    for entry in results:\n",
    "        openfda_data = entry.get(\"openfda\", {})\n",
    "        brand_name = openfda_data.get(\"brand_name\", [\"Unknown\"])[0]\n",
    "        substance = openfda_data.get(\"substance_name\", [\"Unknown\"])[0]\n",
    "        manufacturer = openfda_data.get(\"manufacturer_name\", [\"Unknown\"])[0]\n",
    "        route = openfda_data.get(\"route\", [\"Unknown\"])[0]\n",
    "\n",
    "        info = {\n",
    "            \"brand_name\": brand_name,\n",
    "            \"substance_name\": substance,\n",
    "            \"manufacturer\": manufacturer,\n",
    "            \"route\": route,\n",
    "            \"purpose\": entry.get(\"purpose\", [\"Not specified\"])[0],\n",
    "            \"usage\": entry.get(\"indications_and_usage\", [\"Not specified\"])[0],\n",
    "            \"warnings\": entry.get(\"warnings\", [\"Not specified\"])[0],\n",
    "            \"adverse_reactions\": entry.get(\"adverse_reactions\", [\"Not specified\"])[0],\n",
    "            \"boxed_warning\": entry.get(\"boxed_warning\", [\"None\"])[0]\n",
    "        }\n",
    "\n",
    "        drug_info[brand_name] = info\n",
    "        brand_names.append(brand_name)\n",
    "\n",
    "    # Save to file\n",
    "    with open(file_path, \"w\", encoding=\"utf-8\") as f:\n",
    "        json.dump(drug_info, f, indent=2, ensure_ascii=False)\n",
    "\n",
    "    print(f\"\\n Drug info saved at: {file_path}\")\n",
    "    print(\"\\n Found the following:\")\n",
    "    for name in brand_names:\n",
    "        print(f\"- {name}\")\n",
    "    \n",
    "    return brand_names"
   ]
  },
  {
   "cell_type": "code",
   "execution_count": 4,
   "id": "9384bb3d",
   "metadata": {},
   "outputs": [
    {
     "name": "stdout",
     "output_type": "stream",
     "text": [
      "\n",
      " Drug info saved at: drugs/insulin/drug_info.json\n",
      "\n",
      " Found the following:\n",
      "- Pancreas Liquescence\n"
     ]
    },
    {
     "data": {
      "text/plain": [
       "['Pancreas Liquescence']"
      ]
     },
     "execution_count": 4,
     "metadata": {},
     "output_type": "execute_result"
    }
   ],
   "source": [
    "search_drug_info(\"insulin\", max_results=1)"
   ]
  },
  {
   "cell_type": "code",
   "execution_count": 5,
   "id": "885f43ae",
   "metadata": {},
   "outputs": [],
   "source": [
    "def extract_drug_info(brand_name: str) -> str:\n",
    "    \"\"\"\n",
    "    Search for information about a specific drug by brand name across all drugs directories.\n",
    "    Args:\n",
    "        brand_name (str): The brand name of the drug to look for\n",
    "\n",
    "    Returns:\n",
    "        str: JSON-formatted string with drug info if found, or an error message if not found\n",
    "    \"\"\"\n",
    "\n",
    "    for folder in os.listdir(\"drugs\"):\n",
    "        folder_path = os.path.join(\"drugs\", folder)\n",
    "        if os.path.isdir(folder_path):\n",
    "            file_path = os.path.join(folder_path, \"drug_info.json\")\n",
    "            if os.path.isfile(file_path):\n",
    "                try:\n",
    "                    with open(file_path, \"r\", encoding=\"utf-8\") as f:\n",
    "                        data = json.load(f)\n",
    "                        if brand_name in data:\n",
    "                            return json.dumps(data[brand_name], indent=2, ensure_ascii=False)\n",
    "                except (FileNotFoundError, json.JSONDecodeError) as e:\n",
    "                    print(f\"Error reading {file_path}: {str(e)}\")\n",
    "                    continue\n",
    "\n",
    "    return f\"No saved information found for drug brand: {brand_name}\""
   ]
  },
  {
   "cell_type": "code",
   "execution_count": 6,
   "id": "be463c81",
   "metadata": {},
   "outputs": [
    {
     "data": {
      "text/plain": [
       "'{\\n  \"brand_name\": \"Pancreas Liquescence\",\\n  \"substance_name\": \"CHIONANTHUS VIRGINICUS ROOT BARK\",\\n  \"manufacturer\": \"Nutritional Specialties, Inc.\",\\n  \"route\": \"ORAL\",\\n  \"purpose\": \"PURPOSE: Provides potentized homeo-nutritional support of the pancreas.† †Claims based on traditional homeopathic practice, not accepted medical evidence. Not FDA evaluated.\",\\n  \"usage\": \"INDICATIONS: Provides potentized homeo-nutritional support of the pancreas.† †Claims based on traditional homeopathic practice, not accepted medical evidence. Not FDA evaluated.\",\\n  \"warnings\": \"WARNINGS: Professional Use Only If pregnant or breast-feeding, ask a health professional before use. In case of overdose, get medical help or contact a Poison Control Center right away. If condition worsens, seek medical attention. KEEP OUT OF REACH OF CHILDREN Do not use if tamper evident seal is broken or missing. Store in a cool place after opening\",\\n  \"adverse_reactions\": \"Not specified\",\\n  \"boxed_warning\": \"None\"\\n}'"
      ]
     },
     "execution_count": 6,
     "metadata": {},
     "output_type": "execute_result"
    }
   ],
   "source": [
    "extract_drug_info(\"Pancreas Liquescence\")"
   ]
  },
  {
   "cell_type": "markdown",
   "id": "4a9ed65f",
   "metadata": {},
   "source": [
    "# Tool Schema"
   ]
  },
  {
   "cell_type": "code",
   "execution_count": 7,
   "id": "aaf3196f",
   "metadata": {
    "vscode": {
     "languageId": "javascript"
    }
   },
   "outputs": [],
   "source": [
    "tools = [\n",
    "    {\n",
    "        \"name\": \"search_drug_info\",\n",
    "        \"description\": \"Search for information about a drug from openFDA and store basic details into a file.\",\n",
    "        \"input_schema\": {\n",
    "            \"type\": \"object\",\n",
    "            \"properties\": {\n",
    "                \"drug_name\": {\n",
    "                    \"type\": \"string\",\n",
    "                    \"description\": \"The name of the drug to search for (e.g. ibuprofen, insulin) The main active ingredient; a generic, non-proprietary name.\"\n",
    "                },\n",
    "                \"max_results\": {\n",
    "                    \"type\": \"integer\",\n",
    "                    \"description\": \"Maximum number of results to retrieve (default is 5)\",\n",
    "                    \"default\": 5\n",
    "                }\n",
    "            },\n",
    "            \"required\": [\"drug_name\"]\n",
    "        }\n",
    "    },\n",
    "    {\n",
    "        \"name\": \"extract_drug_info\",\n",
    "        \"description\": \"Retrieve information about a specific drug by its brand name from saved drug files. \",\n",
    "        \"input_schema\": {\n",
    "            \"type\": \"object\",\n",
    "            \"properties\": {\n",
    "                \"brand_name\": {\n",
    "                    \"type\": \"string\",\n",
    "                    \"description\": \"The brand name of the drug to look for (e.g. ADMELOG). The brand name of the product, created and trademarked by the company.\"\n",
    "                }\n",
    "            },\n",
    "            \"required\": [\"brand_name\"]\n",
    "        }\n",
    "    }\n",
    "]"
   ]
  },
  {
   "cell_type": "markdown",
   "id": "f8be1b53",
   "metadata": {},
   "source": [
    "# Tool Mapping"
   ]
  },
  {
   "cell_type": "code",
   "execution_count": 8,
   "id": "7e2e9bb5",
   "metadata": {},
   "outputs": [],
   "source": [
    "mapping_tool_function = {\n",
    "    \"search_drug_info\": search_drug_info,\n",
    "    \"extract_drug_info\": extract_drug_info\n",
    "}\n",
    "def execute_tool(tool_name, tool_args):\n",
    "    \"\"\"\n",
    "    Execute a registered tool by name with provided arguments.\n",
    "    \n",
    "    Args:\n",
    "        tool_name (str): The name of the tool to call\n",
    "        tool_args (dict): Dictionary of arguments for the tool\n",
    "\n",
    "    Returns:\n",
    "        str: Stringified and formatted result for display\n",
    "    \"\"\"\n",
    "\n",
    "    try:\n",
    "        result = mapping_tool_function[tool_name](**tool_args)\n",
    "    except Exception as e:\n",
    "        return f\"Error while executing tool: {str(e)}\"\n",
    "\n",
    "    # Format result for display\n",
    "    if result is None:\n",
    "        return \"Operation completed, but no data was returned.\"\n",
    "\n",
    "    elif isinstance(result, list):\n",
    "        return \"\\n\".join(f\"- {item}\" for item in result)\n",
    "\n",
    "    elif isinstance(result, dict):\n",
    "        return json.dumps(result, indent=2, ensure_ascii=False)\n",
    "\n",
    "    else:\n",
    "        return str(result)"
   ]
  },
  {
   "cell_type": "markdown",
   "id": "302842f2",
   "metadata": {},
   "source": [
    "# Set up AI Client"
   ]
  },
  {
   "cell_type": "code",
   "execution_count": 9,
   "id": "07523b9d",
   "metadata": {},
   "outputs": [],
   "source": [
    "load_dotenv()\n",
    "client = anthropic.Anthropic()"
   ]
  },
  {
   "cell_type": "markdown",
   "id": "c84d3909",
   "metadata": {},
   "source": [
    "# Query Processing "
   ]
  },
  {
   "cell_type": "code",
   "execution_count": 10,
   "id": "e8535512",
   "metadata": {},
   "outputs": [],
   "source": [
    "def process_query(query):\n",
    "    \n",
    "    messages = [{'role': 'user', 'content': query}]\n",
    "    \n",
    "    response = client.messages.create(max_tokens = 2024,\n",
    "                                  model = 'claude-3-7-sonnet-20250219', \n",
    "                                  tools = tools,\n",
    "                                  messages = messages)\n",
    "    \n",
    "    process_query = True\n",
    "    while process_query:\n",
    "        assistant_content = []\n",
    "\n",
    "        for content in response.content:\n",
    "            if content.type == 'text':\n",
    "                \n",
    "                print(content.text)\n",
    "                assistant_content.append(content)\n",
    "                \n",
    "                if len(response.content) == 1:\n",
    "                    process_query = False\n",
    "            \n",
    "            elif content.type == 'tool_use':\n",
    "                \n",
    "                assistant_content.append(content)\n",
    "                messages.append({'role': 'assistant', 'content': assistant_content})\n",
    "                \n",
    "                tool_id = content.id\n",
    "                tool_args = content.input\n",
    "                tool_name = content.name\n",
    "                print(f\"Calling tool {tool_name} with args {tool_args}\")\n",
    "                \n",
    "                result = execute_tool(tool_name, tool_args)\n",
    "                messages.append({\"role\": \"user\", \n",
    "                                  \"content\": [\n",
    "                                      {\n",
    "                                          \"type\": \"tool_result\",\n",
    "                                          \"tool_use_id\": tool_id,\n",
    "                                          \"content\": result\n",
    "                                      }\n",
    "                                  ]\n",
    "                                })\n",
    "                response = client.messages.create(max_tokens = 2024,\n",
    "                                  model = 'claude-3-7-sonnet-20250219', \n",
    "                                  tools = tools,\n",
    "                                  messages = messages) \n",
    "                \n",
    "                if len(response.content) == 1 and response.content[0].type == \"text\":\n",
    "                    print(response.content[0].text)\n",
    "                    process_query = False"
   ]
  },
  {
   "cell_type": "markdown",
   "id": "68f846e5",
   "metadata": {},
   "source": [
    "# Chat Loop"
   ]
  },
  {
   "cell_type": "code",
   "execution_count": 11,
   "id": "2e817d17",
   "metadata": {},
   "outputs": [],
   "source": [
    "def chat_loop():\n",
    "    print(\"Type your queries or 'quit' to exit.\")\n",
    "    while True:\n",
    "        try:\n",
    "            query = input(\"\\nQuery: \").strip()\n",
    "            if query.lower() == 'quit':\n",
    "                break\n",
    "    \n",
    "            process_query(query)\n",
    "            print(\"\\n\")\n",
    "        except Exception as e:\n",
    "            print(f\"\\nError: {str(e)}\")"
   ]
  },
  {
   "cell_type": "code",
   "execution_count": null,
   "id": "72be64a9",
   "metadata": {},
   "outputs": [],
   "source": [
    "chat_loop()"
   ]
  }
 ],
 "metadata": {
  "kernelspec": {
   "display_name": "venv",
   "language": "python",
   "name": "python3"
  },
  "language_info": {
   "codemirror_mode": {
    "name": "ipython",
    "version": 3
   },
   "file_extension": ".py",
   "mimetype": "text/x-python",
   "name": "python",
   "nbconvert_exporter": "python",
   "pygments_lexer": "ipython3",
   "version": "3.11.7"
  }
 },
 "nbformat": 4,
 "nbformat_minor": 5
}
